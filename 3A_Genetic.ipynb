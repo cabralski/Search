{
 "cells": [
  {
   "cell_type": "code",
   "execution_count": 29,
   "metadata": {},
   "outputs": [],
   "source": [
    "# typing — Support for gradual typing as defined by PEP 484 and subsequent PEPs.\n",
    "from typing import TypeAlias, Literal, List, Tuple, Callable, Optional\n",
    "\n",
    "# NumPy — Funções para computação numérica.\n",
    "import numpy as np\n",
    "\n",
    "# Numba — Aceleração do Python via JIT.\n",
    "from numba import njit\n",
    "\n",
    "# matplotlib — An object-oriented plotting library.\n",
    "import matplotlib.pyplot as plt\n",
    "\n",
    "# copy — Deep and shallow copies.\n",
    "from copy import deepcopy as copy"
   ]
  },
  {
   "cell_type": "code",
   "execution_count": 30,
   "metadata": {},
   "outputs": [
    {
     "data": {
      "text/plain": [
       "0.0"
      ]
     },
     "execution_count": 30,
     "metadata": {},
     "output_type": "execute_result"
    }
   ],
   "source": [
    "@njit\n",
    "def phi(x: np.ndarray, domain: Tuple[float, float]) -> float:\n",
    "\t\n",
    "\t# `nd` é o comprimento de `x`.\n",
    "\tnd = len(x)\n",
    "\n",
    "\t# `xmin` e `xmax` são os limites do domínio.\n",
    "\txmin, xmax = domain[0], domain[1]\n",
    "\t\n",
    "\t# Esta é a fórmula de Φ(bj).\n",
    "\treturn xmin + ((xmax - xmin) / (2 ** nd - 1)) * np.sum(x[::-1] * 2 ** np.arange(nd))\n",
    "\n",
    "phi(np.array([0.5, 0.5, 0.5, 0.5, 0.5, 0.5, 0.5]), (-10, 10))"
   ]
  },
  {
   "cell_type": "code",
   "execution_count": 31,
   "metadata": {},
   "outputs": [
    {
     "data": {
      "text/plain": [
       "array([[0, 1, 1],\n",
       "       [1, 1, 0]])"
      ]
     },
     "execution_count": 31,
     "metadata": {},
     "output_type": "execute_result"
    }
   ],
   "source": [
    "@njit\n",
    "def chunks(x: np.ndarray, p: int) -> np.ndarray:\n",
    "\t\"\"\"\n",
    "\tRetorna `x` em `p` \"pedaços\".\n",
    "\t\"\"\"\n",
    "\t\n",
    "\tm = x.size // p\n",
    "\t\n",
    "\tresult = np.empty((p, m), dtype = x.dtype)\n",
    "\t\n",
    "\tfor i in range(p):\n",
    "\t\tresult[i] = x[i * m: (i + 1) * m]\n",
    "\n",
    "\treturn result\n",
    "\n",
    "chunks(np.array([0, 1, 1, 1, 1, 0]), 2)"
   ]
  },
  {
   "cell_type": "code",
   "execution_count": 32,
   "metadata": {},
   "outputs": [
    {
     "data": {
      "text/plain": [
       "array([ 10.        , -10.        ,   3.33333333])"
      ]
     },
     "execution_count": 32,
     "metadata": {},
     "output_type": "execute_result"
    }
   ],
   "source": [
    "@njit\n",
    "def phi_nd(x: np.ndarray, p: int, domain: Tuple[float, float]) -> np.ndarray:\n",
    "    \"\"\"\n",
    "    Aplica `phi(...)` em cada `nd` do indivíduo.\n",
    "    \"\"\"\n",
    "    return np.array([phi(chunk, domain) for chunk in chunks(x, p)])\n",
    "\n",
    "phi_nd(np.array([1, 1, 0, 0, 1, 0]), 3, (-10, 10))"
   ]
  },
  {
   "cell_type": "code",
   "execution_count": 33,
   "metadata": {},
   "outputs": [
    {
     "data": {
      "text/plain": [
       "0.0"
      ]
     },
     "execution_count": 33,
     "metadata": {},
     "output_type": "execute_result"
    }
   ],
   "source": [
    "@njit\n",
    "def rastrigin(x: np.ndarray) -> np.signedinteger:\n",
    "\t\n",
    "\t# `n` é o comprimento do vetor `x`.\n",
    "\tn = len(x)\n",
    "\n",
    "\t# Constante: A\n",
    "\tA = 10\n",
    "\n",
    "\t# Esta é a função de Rastrigin, propriamente dita.\n",
    "\treturn A * n + np.sum(x ** 2 - A * np.cos(2 * np.pi * x))\n",
    "\n",
    "rastrigin(np.array([0, 0, 0, 0, 0, 0]))"
   ]
  },
  {
   "cell_type": "code",
   "execution_count": 101,
   "metadata": {},
   "outputs": [
    {
     "data": {
      "text/plain": [
       "array([0, 0, 0, 0, 1, 1, 1, 0, 0, 0, 1, 0, 0, 0, 0, 1, 1, 1, 1, 1])"
      ]
     },
     "execution_count": 101,
     "metadata": {},
     "output_type": "execute_result"
    }
   ],
   "source": [
    "def create_individual(size: int) -> np.ndarray:\n",
    "\t\"\"\"\n",
    "\tCria um indivíduo aleatório.\n",
    "\t\"\"\"\n",
    "\n",
    "\treturn np.random.randint(low = 0, high = 2, size = size)\n",
    "\n",
    "create_individual(20)"
   ]
  },
  {
   "cell_type": "code",
   "execution_count": 102,
   "metadata": {},
   "outputs": [],
   "source": [
    "@njit\n",
    "def roulette_selection(population: np.ndarray, fitnesses: np.ndarray) -> np.ndarray:\n",
    "\t\n",
    "\t# Valores menores são preferidos\n",
    "\tinverted_fitnesses = 1.0 / (fitnesses + 1e-10) # Evitar divisões por zero.\n",
    "\n",
    "\t# Este é o total de todas as aptidões.\n",
    "\ttotal_fitness = np.sum(inverted_fitnesses)\n",
    "\t\n",
    "\t# Crie uma distribuição de probabilidades.\n",
    "\tprobabilities = inverted_fitnesses / total_fitness\n",
    "\t\n",
    "\t# Select an individual based on the probability distribution.\n",
    "\tcumulative_probabilities = np.cumsum(probabilities)\n",
    "\t\n",
    "\t# Gere um número aleatório entre [0, 1).\n",
    "\tr = np.random.rand()\n",
    "\t\n",
    "\t# Select the individual.\n",
    "\tfor i, individual in enumerate(population):\n",
    "\t\t\n",
    "\t\t# Caso o `r` for menor que a probabilidade cumulativa..\n",
    "\t\tif r < cumulative_probabilities[i]:\n",
    "\t\t\t\n",
    "\t\t\t# ..retorne o indivíduo.\n",
    "\t\t\treturn individual"
   ]
  },
  {
   "cell_type": "code",
   "execution_count": 103,
   "metadata": {},
   "outputs": [],
   "source": [
    "@njit\n",
    "def roulette_selection(population: np.ndarray, fitnesses: np.ndarray) -> np.ndarray:\n",
    "\t\n",
    "    # Calcule as probabilidades\n",
    "\tprobabilities = 1 / (fitnesses / np.sum(fitnesses))\n",
    "\t\n",
    "\t# Inicalize o índice.\n",
    "\ti = 0\n",
    "\t\n",
    "\t# Compute o total das probabilidades a partir do primeiro.\n",
    "\ttotal = probabilities[i]\n",
    "\t\n",
    "\t# Produza um número aleatório entre [0, 1).\n",
    "\tr = np.random.rand()\n",
    "\t\n",
    "\t# Rode a roleta!\n",
    "\twhile total < r:\n",
    "\t\ti += 1\n",
    "\t\ttotal += probabilities[i]\n",
    "\t\n",
    "\t# Retorne o indivíduo.\n",
    "\treturn population[i]"
   ]
  },
  {
   "cell_type": "code",
   "execution_count": 104,
   "metadata": {},
   "outputs": [],
   "source": [
    "@njit\n",
    "def crossover(a: np.ndarray, b: np.ndarray, rate: float) -> Tuple[np.ndarray, np.ndarray]:\n",
    "\t\n",
    "\t# Faça uma cópia dos dois.\n",
    "\tos_a = a.copy()\n",
    "\tos_b = b.copy()\n",
    "\t\n",
    "\tif np.random.rand() < rate:\n",
    "\t\t\n",
    "\t\t# Crie uma máscara \"aleatória\".\n",
    "\t\tmask = np.random.randint(0, 2, a.size)\n",
    "\n",
    "\t\t# De bit em bit..\n",
    "\t\tfor i in range(a.size):\n",
    "\t\t\t\n",
    "\t\t\t# Troque os genes dos indivíduos.\n",
    "\t\t\tif mask[i] == 1:\n",
    "\t\t\t\tos_a[i], os_b[i] = b[i], a[i]\n",
    "\t\t\t\t\n",
    "\treturn os_a, os_b"
   ]
  },
  {
   "cell_type": "code",
   "execution_count": 105,
   "metadata": {},
   "outputs": [],
   "source": [
    "@njit\n",
    "def mutate(individual: np.ndarray, mutation_rate: float) -> np.ndarray:\n",
    "\t\"\"\"\n",
    "\tRealiza a mutação em um indivíduo.\n",
    "\t\"\"\"\n",
    "\n",
    "\t# Para cada bit do indivíduo..\n",
    "\tfor i in range(individual.size):\n",
    "\t\t\n",
    "\t\t# \"Tógle\" o bit.\n",
    "\t\tif np.random.rand() < mutation_rate:\n",
    "\t\t\tindividual[i] = not individual[i]\n",
    "\n",
    "\treturn individual"
   ]
  },
  {
   "cell_type": "code",
   "execution_count": 106,
   "metadata": {},
   "outputs": [
    {
     "data": {
      "text/plain": [
       "True"
      ]
     },
     "execution_count": 106,
     "metadata": {},
     "output_type": "execute_result"
    }
   ],
   "source": [
    "@njit\n",
    "def has_converged(population: np.ndarray) -> bool:\n",
    "\t\"\"\"\n",
    "\tA população convergiu caso todos sejam o mesmo indivíduo.\n",
    "\t\"\"\"\n",
    "\n",
    "\tfirst = population[0]\n",
    "\t\n",
    "\tfor i in range(1, population.shape[0]):\n",
    "\t\tif not np.array_equal(first, population[i]):\n",
    "\t\t\treturn False\n",
    "\t\t\n",
    "\treturn True\n",
    "\n",
    "has_converged(np.array([\n",
    "\tnp.array([0, 1, 1, 0]),\n",
    "\tnp.array([0, 1, 1, 0])\n",
    "]))"
   ]
  },
  {
   "cell_type": "code",
   "execution_count": 107,
   "metadata": {},
   "outputs": [],
   "source": [
    "def genetic_algorithm(P: int, p: int, nd: int, domain: Tuple[float, float], generations: int = 1_000, rounds: int = 100, crossover_rate: float = 0.9, mutation_rate: float = 0.01) -> List[float]:\n",
    "\t\n",
    "\t# Lista de todas as aptidões.\n",
    "\tall_fitnesses = []\n",
    "\n",
    "\tfor _ in range(rounds):\n",
    "\n",
    "\t\t# População inicial aleatória.\n",
    "\t\tpopulation = np.array([create_individual(p * nd) for _ in range(P)])\n",
    "\n",
    "\t\tfor _ in range(generations):\n",
    "\n",
    "\t\t\t# Esta é uma lista de todas as aptidões.\n",
    "\t\t\tfitnesses = np.array([rastrigin(phi_nd(individual, p, domain)) for individual in population])\n",
    "\n",
    "\t\t\t# Ordene a população pela aptidão.\n",
    "\t\t\tsorted_indices = np.argsort(fitnesses)\n",
    "\t\t\tpopulation = population[sorted_indices]\n",
    "\t\t\tfitnesses = fitnesses[sorted_indices]\n",
    "\n",
    "\t\t\t# ELITISMO: Coloque os 10 melhores da população anterior na nova população.\n",
    "\t\t\tnew_population = population[0 : 25].tolist()\n",
    "\t\t\t\n",
    "\t\t\twhile len(new_population) < P:\n",
    "\t\t\t\t\t\n",
    "\t\t\t\t# Selecione dois indivíduos com o método da roleta.\n",
    "\t\t\t\tparent1 = roulette_selection(population, fitnesses)\n",
    "\t\t\t\tparent2 = roulette_selection(population, fitnesses)\n",
    "\t\t\t\t\n",
    "\t\t\t\t# Estes são sua próle.\n",
    "\t\t\t\toffspring1, offspring2 = crossover(parent1, parent2, crossover_rate)\n",
    "\t\t\t\t\n",
    "\t\t\t\t# Faça uma mutação nos indivíduos.\n",
    "\t\t\t\toffspring1 = mutate(offspring1, mutation_rate)\n",
    "\t\t\t\toffspring2 = mutate(offspring2, mutation_rate)\n",
    "\n",
    "\t\t\t\t# Adicione as próles à nova população.\n",
    "\t\t\t\tnew_population.append(offspring1)\n",
    "\t\t\t\tnew_population.append(offspring2)\n",
    "\t\t\t\n",
    "\t\t\t# A nova população substitui a \"antiga\".\n",
    "\t\t\tpopulation = np.array(new_population)\n",
    "\n",
    "\t\t\t# Adicione a melhor aptidão às melhores aptidões.\n",
    "\t\t\tall_fitnesses += fitnesses.tolist()\n",
    "\n",
    "\t\t# Caso a população tenha convergido, pare.\n",
    "\t\tif has_converged(population):\n",
    "\t\t\tbreak\n",
    "\n",
    "\treturn all_fitnesses"
   ]
  },
  {
   "cell_type": "code",
   "execution_count": 134,
   "metadata": {},
   "outputs": [],
   "source": [
    "fitnesses = genetic_algorithm(\n",
    "\t\n",
    "\t# Definições do Problema.\n",
    "\tp = 20,\n",
    "\tdomain = (-10, 10),\n",
    "    \n",
    "\t# Rodadas totais.\n",
    "\trounds = 100,\n",
    "\t\n",
    "\t# Hiperparâmetros Gerais.\n",
    "\tgenerations = 100,\n",
    "\tP = 50,\n",
    "\tnd = 8,\n",
    "\n",
    "\t# Hiperparâmetros Específicos.\n",
    "\tcrossover_rate = 0.85,\n",
    "\tmutation_rate = 0.01\n",
    "\t\n",
    ")"
   ]
  },
  {
   "cell_type": "code",
   "execution_count": 135,
   "metadata": {},
   "outputs": [
    {
     "name": "stdout",
     "output_type": "stream",
     "text": [
      "Melhor Aptidão: 33.69395339227256\n",
      "Pior Aptidão: 1379.8769635522067\n",
      "Aptidão Média: 168.9071210994011\n",
      "Desvio Padrão das Aptidões: 132.84725127010722\n"
     ]
    }
   ],
   "source": [
    "print(\"Melhor Aptidão:\", np.min(fitnesses))\n",
    "print(\"Pior Aptidão:\", np.max(fitnesses))\n",
    "print(\"Aptidão Média:\", np.mean(fitnesses))\n",
    "print(\"Desvio Padrão das Aptidões:\", np.std(fitnesses))"
   ]
  }
 ],
 "metadata": {
  "kernelspec": {
   "display_name": ".venv",
   "language": "python",
   "name": "python3"
  },
  "language_info": {
   "codemirror_mode": {
    "name": "ipython",
    "version": 3
   },
   "file_extension": ".py",
   "mimetype": "text/x-python",
   "name": "python",
   "nbconvert_exporter": "python",
   "pygments_lexer": "ipython3",
   "version": "3.12.0"
  }
 },
 "nbformat": 4,
 "nbformat_minor": 2
}
