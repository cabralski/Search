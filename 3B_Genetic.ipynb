{
 "cells": [
  {
   "cell_type": "code",
   "execution_count": 12,
   "metadata": {},
   "outputs": [],
   "source": [
    "# typing — Support for gradual typing as defined by PEP 484 and subsequent PEPs.\n",
    "from typing import TypeAlias, Literal, List, Tuple, Callable, Optional\n",
    "\n",
    "# NumPy — Funções para computação numérica.\n",
    "import numpy as np\n",
    "\n",
    "# Numba — Aceleração do Python via JIT.\n",
    "from numba import njit\n",
    "\n",
    "# matplotlib — An object-oriented plotting library.\n",
    "import matplotlib.pyplot as plt\n",
    "\n",
    "# copy — Deep and shallow copies.\n",
    "from copy import deepcopy as copy"
   ]
  },
  {
   "cell_type": "code",
   "execution_count": 13,
   "metadata": {},
   "outputs": [
    {
     "data": {
      "text/plain": [
       "0.0"
      ]
     },
     "execution_count": 13,
     "metadata": {},
     "output_type": "execute_result"
    }
   ],
   "source": [
    "@njit\n",
    "def rastrigin(x):\n",
    "\tn = len(x)\n",
    "\tA = 10\n",
    "\treturn A * n + np.sum(x ** 2 - A * np.cos(2 * np.pi * x))\n",
    "\n",
    "rastrigin(np.array([0, 0, 0, 0, 0, 0, 0]))"
   ]
  },
  {
   "cell_type": "code",
   "execution_count": 14,
   "metadata": {},
   "outputs": [
    {
     "data": {
      "text/plain": [
       "array([-4.97278461, -2.18682141, -6.34870853,  4.71741328, -6.25573629,\n",
       "        3.05168195,  5.04823689, -6.43336142,  7.59564056,  4.44379914,\n",
       "       -3.48796257, -2.80221524,  7.12785684,  2.94947157, -3.04542723,\n",
       "       -6.29234457,  2.75967412, -8.93917248, -3.85518409,  4.24622201])"
      ]
     },
     "execution_count": 14,
     "metadata": {},
     "output_type": "execute_result"
    }
   ],
   "source": [
    "def create_individual(size: int, domain: Tuple[float, float]) -> np.ndarray:\n",
    "\t\"\"\"\n",
    "\tCria um indivíduo aleatório.\n",
    "\t\"\"\"\n",
    "\n",
    "\treturn np.random.uniform(*domain, size = size)\n",
    "\n",
    "create_individual(20, (-10, 10))"
   ]
  },
  {
   "cell_type": "code",
   "execution_count": 15,
   "metadata": {},
   "outputs": [],
   "source": [
    "@njit\n",
    "def tournament_selection(population: np.ndarray, fitnesses: np.ndarray, k: int) -> np.ndarray:\n",
    "\t\"\"\"\n",
    "\tRealiza a seleção por torneio.\n",
    "\t\"\"\"\n",
    "\n",
    "\t# Selecionar aleatoriamente 'k' indivíduos para o torneio.\n",
    "\ttournament_indices = np.random.choice(population.shape[0], k, replace = False)\n",
    "\t\n",
    "\t# Inicie com o primeiro (poderia ser qualquer um).\n",
    "\tbest_index = tournament_indices[0]\n",
    "\n",
    "\t# Encontre o índice do indivíduo com a melhor aptidão entre os selecionados.\n",
    "\tfor idx in tournament_indices[1:]:\n",
    "\t\tif fitnesses[idx] > fitnesses[best_index]:\n",
    "\t\t\tbest_index = idx\n",
    "\t\n",
    "\t# Retorne o indivíduo com a melhor aptidão.\n",
    "\treturn population[best_index]"
   ]
  },
  {
   "cell_type": "code",
   "execution_count": 16,
   "metadata": {},
   "outputs": [],
   "source": [
    "@njit\n",
    "def simulated_binary_crossover(a: np.ndarray, b: np.ndarray, eta: float, domain: Tuple[float, float]) -> Tuple[np.ndarray, np.ndarray]:\n",
    "\t\n",
    "\t# Inicialize a próle.\n",
    "\toffspring1 = np.empty_like(a)\n",
    "\toffspring2 = np.empty_like(b)\n",
    "\n",
    "\t# Estes são os limites inferior e superior.\n",
    "\tlower_bound, upper_bound = domain\n",
    "\t\n",
    "\t# Faça o crossover para cada elemento.\n",
    "\tfor i in range(a.shape[0]):\n",
    "\n",
    "\t\t# ~U(0, 1)\n",
    "\t\tr = np.random.rand()\n",
    "\t\t\n",
    "\t\t# Caso `r` seja <= 0.5..\n",
    "\t\tif r <= 0.5:\n",
    "\t\t\tgamma = (2 * r) ** (1 / (eta + 1))\n",
    "\t\telse:\n",
    "\t\t\tgamma = (1 / (2 * (1 - r))) ** (1 / (eta + 1))\n",
    "\t\t\n",
    "\t\toffspring1[i] = 0.5 * ((1 + gamma) * a[i] + (1 - gamma) * b[i])\n",
    "\t\toffspring2[i] = 0.5 * ((1 - gamma) * a[i] + (1 + gamma) * b[i])\n",
    "\t\t\n",
    "\t# Garanta que a próle está dentro do limite.\n",
    "\toffspring1 = np.clip(offspring1, a_min = lower_bound, a_max = upper_bound)\n",
    "\toffspring2 = np.clip(offspring2, a_min = lower_bound, a_max = upper_bound)\n",
    "\n",
    "\treturn offspring1, offspring2\n"
   ]
  },
  {
   "cell_type": "code",
   "execution_count": 17,
   "metadata": {},
   "outputs": [
    {
     "data": {
      "text/plain": [
       "(array([0.11135676, 0.21290151]), array([0.88864324, 0.78709849]))"
      ]
     },
     "execution_count": 17,
     "metadata": {},
     "output_type": "execute_result"
    }
   ],
   "source": [
    "simulated_binary_crossover(np.array([0.0, 0.0]), np.array([1.0, 1.0]), eta = 1, domain = (-1, 1))"
   ]
  },
  {
   "cell_type": "code",
   "execution_count": 18,
   "metadata": {},
   "outputs": [],
   "source": [
    "@njit\n",
    "def mutate(individual: np.ndarray, rate: float, eta: float, domain: Tuple[float, float]) -> np.ndarray:\n",
    "\t\n",
    "\tn = np.random.randn(individual.shape[0])\n",
    "\n",
    "\tlower_bound, upper_bound = domain\n",
    "\t\n",
    "\tfor i in range(individual.shape[0]):\n",
    "\t\tif np.random.uniform(0, 1) <= rate:\n",
    "\t\t\t\n",
    "\t\t\t# Mutação Delta: https://arxiv.org/pdf/1508.00468\n",
    "\t\t\t# delta = (2 * np.random.rand() - 1) * (1 - abs(individual[i] - lower_bound) / (upper_bound - lower_bound)) ** (1 / (eta + 1))\n",
    "\t\t\t# individual[i] += delta\n",
    "\n",
    "\t\t\t# Mutação Gaussiana.\n",
    "\t\t\tindividual[i] += eta * n[i]\n",
    "\t\n",
    "\t# Garantir que os valores estejam dentro dos limites do domínio.\n",
    "\tindividual = np.clip(individual, lower_bound, upper_bound)\n",
    "\t\n",
    "\treturn individual"
   ]
  },
  {
   "cell_type": "code",
   "execution_count": 19,
   "metadata": {},
   "outputs": [
    {
     "data": {
      "text/plain": [
       "array([-0.03729055, -0.91059174,  3.9507934 ])"
      ]
     },
     "execution_count": 19,
     "metadata": {},
     "output_type": "execute_result"
    }
   ],
   "source": [
    "mutate(np.array([0., -1., 4.]), rate = 0.99, eta = 0.1, domain = (-10, 10))"
   ]
  },
  {
   "cell_type": "code",
   "execution_count": 20,
   "metadata": {},
   "outputs": [
    {
     "data": {
      "text/plain": [
       "True"
      ]
     },
     "execution_count": 20,
     "metadata": {},
     "output_type": "execute_result"
    }
   ],
   "source": [
    "@njit\n",
    "def has_converged(population: np.ndarray, threshold: float = 1e-2) -> np.bool:\n",
    "\t\"\"\"\n",
    "\tA população convergiu caso todos sejam o mesmo indivíduo.\n",
    "\t\"\"\"\n",
    "\n",
    "\treturn np.var(population) < threshold\n",
    "\n",
    "has_converged(np.array([\n",
    "\tnp.array([2]),\n",
    "\tnp.array([2.1])\n",
    "]))"
   ]
  },
  {
   "cell_type": "code",
   "execution_count": 23,
   "metadata": {},
   "outputs": [],
   "source": [
    "def non_canonic_genetic_algorithm(f: Callable, P: int, p: int, domain: Tuple[float, float], generations: int = 1_000, rounds: int = 100, mutation_rate: float = 0.01, n_children: int = 2, eta: float = 1, k: int = 2):\n",
    "\t\n",
    "\t# Lista de todas as aptidões.\n",
    "\tall_fitnesses = []\n",
    "\n",
    "\tfor _ in range(rounds):\n",
    "\n",
    "\t\t# População inicial aleatória.\n",
    "\t\tpopulation = np.array([create_individual(p, domain) for _ in range(P)])\n",
    "\n",
    "\t\tfor _ in range(generations):\n",
    "\n",
    "\t\t\t# Esta é uma lista de todas as aptidões.\n",
    "\t\t\tfitnesses = np.array([f(individual) for individual in population])\n",
    "\n",
    "\t\t\t# Esta é a nova população.\n",
    "\t\t\tnew_population = []\n",
    "\t\t\t\n",
    "\t\t\twhile len(new_population) < P:\n",
    "\t\t\t\t\t\n",
    "\t\t\t\t# Selecione dois indivíduos com o método do torneio.\n",
    "\t\t\t\tparent1 = tournament_selection(population, fitnesses, k = k)\n",
    "\t\t\t\tparent2 = tournament_selection(population, fitnesses, k = k)\n",
    "\t\t\t\t\n",
    "\t\t\t\t# Estes são sua próle.\n",
    "\t\t\t\toffspring1, offspring2 = simulated_binary_crossover(parent1, parent2, eta = eta, domain = domain)\n",
    "\t\t\t\t\n",
    "\t\t\t\t# Realize a mutação da prole.\n",
    "\t\t\t\toffspring1 = mutate(offspring1, mutation_rate, eta, domain)\n",
    "\t\t\t\toffspring2 = mutate(offspring2, mutation_rate, eta, domain)\n",
    "\n",
    "\t\t\t\t# Adicione as próles à nova população.\n",
    "\t\t\t\tnew_population.append(offspring1)\n",
    "\t\t\t\tnew_population.append(offspring2)\n",
    "\t\t\t\n",
    "\t\t\t# A nova população substitui a \"antiga\".\n",
    "\t\t\tpopulation = np.array(new_population)\n",
    "\n",
    "\t\t\t# Adicione a melhor aptidão às melhores aptidões.\n",
    "\t\t\tall_fitnesses += fitnesses.tolist()\n",
    "\n",
    "\t\t# Caso a população tenha convergido, pare.\n",
    "\t\tif has_converged(population):\n",
    "\t\t\tbreak\n",
    "\t\n",
    "\treturn all_fitnesses"
   ]
  },
  {
   "cell_type": "code",
   "execution_count": 39,
   "metadata": {},
   "outputs": [
    {
     "name": "stdout",
     "output_type": "stream",
     "text": [
      "\n",
      "Melhor Aptidão: 416.6908326783073\n",
      "Pior Aptidão: 2213.217171843826\n",
      "Aptidão Média: 2041.1269972592138\n",
      "np.std(Aptidão): 256.4267913532014\n"
     ]
    }
   ],
   "source": [
    "fitnesses = non_canonic_genetic_algorithm(\n",
    "\t\n",
    "\t# Definições do Problema.\n",
    "\tf = lambda x: rastrigin(x),\n",
    "\tp = 20,\n",
    "\tdomain = (-10, 10),\n",
    "\t\n",
    "\t# Total de Rodadas\n",
    "\trounds = 100,\n",
    "\n",
    "\t# Hiperparâmetros Gerais.\n",
    "\tgenerations = 100,\n",
    "\tP = 50,\n",
    "\n",
    "\t# Hiperparâmetros Específicos.\n",
    "\teta = 1.0,\n",
    "\tmutation_rate = 0.02,\n",
    "    k = 10\n",
    "\t\n",
    ")\n",
    "\n",
    "print(\"\\nMelhor Aptidão:\", np.min(fitnesses))\n",
    "print(\"Pior Aptidão:\", np.max(fitnesses))\n",
    "print(\"Aptidão Média:\", np.mean(fitnesses))\n",
    "print(\"np.std(Aptidão):\", np.std(fitnesses))"
   ]
  }
 ],
 "metadata": {
  "kernelspec": {
   "display_name": ".venv",
   "language": "python",
   "name": "python3"
  },
  "language_info": {
   "codemirror_mode": {
    "name": "ipython",
    "version": 3
   },
   "file_extension": ".py",
   "mimetype": "text/x-python",
   "name": "python",
   "nbconvert_exporter": "python",
   "pygments_lexer": "ipython3",
   "version": "3.12.0"
  }
 },
 "nbformat": 4,
 "nbformat_minor": 2
}
